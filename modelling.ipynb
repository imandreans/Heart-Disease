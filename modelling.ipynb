{
 "cells": [
  {
   "cell_type": "code",
   "execution_count": 1,
   "metadata": {},
   "outputs": [],
   "source": [
    "#Import Packages\n",
    "import numpy as np\n",
    "import pandas as pd\n",
    "import pickle\n",
    "import matplotlib.pyplot as plt\n",
    "from sklearn.preprocessing import StandardScaler\n",
    "from sklearn.model_selection import train_test_split\n",
    "from sklearn.metrics import  classification_report, accuracy_score\n",
    "from sklearn.metrics import  roc_curve, roc_auc_score\n",
    "import warnings\n",
    "\n",
    "from sklearn.linear_model import LogisticRegression\n",
    "from sklearn.tree import DecisionTreeClassifier\n",
    "from sklearn.ensemble import RandomForestClassifier\n",
    "from sklearn.neural_network import MLPClassifier\n",
    "from sklearn.model_selection import GridSearchCV\n",
    "warnings.filterwarnings(\"ignore\")"
   ]
  },
  {
   "cell_type": "code",
   "execution_count": 2,
   "metadata": {},
   "outputs": [],
   "source": [
    "#Read file\n",
    "df = pd.read_csv('data_cleaned.csv')"
   ]
  },
  {
   "cell_type": "code",
   "execution_count": 3,
   "metadata": {},
   "outputs": [
    {
     "data": {
      "text/html": [
       "<div>\n",
       "<style scoped>\n",
       "    .dataframe tbody tr th:only-of-type {\n",
       "        vertical-align: middle;\n",
       "    }\n",
       "\n",
       "    .dataframe tbody tr th {\n",
       "        vertical-align: top;\n",
       "    }\n",
       "\n",
       "    .dataframe thead th {\n",
       "        text-align: right;\n",
       "    }\n",
       "</style>\n",
       "<table border=\"1\" class=\"dataframe\">\n",
       "  <thead>\n",
       "    <tr style=\"text-align: right;\">\n",
       "      <th></th>\n",
       "      <th>age</th>\n",
       "      <th>sex</th>\n",
       "      <th>cp</th>\n",
       "      <th>thalach</th>\n",
       "      <th>exang</th>\n",
       "      <th>oldpeak</th>\n",
       "      <th>slope</th>\n",
       "      <th>ca</th>\n",
       "      <th>thal</th>\n",
       "      <th>target</th>\n",
       "    </tr>\n",
       "  </thead>\n",
       "  <tbody>\n",
       "    <tr>\n",
       "      <th>count</th>\n",
       "      <td>283.000000</td>\n",
       "      <td>283.000000</td>\n",
       "      <td>283.000000</td>\n",
       "      <td>283.000000</td>\n",
       "      <td>283.000000</td>\n",
       "      <td>283.000000</td>\n",
       "      <td>283.000000</td>\n",
       "      <td>283.000000</td>\n",
       "      <td>283.000000</td>\n",
       "      <td>283.000000</td>\n",
       "    </tr>\n",
       "    <tr>\n",
       "      <th>mean</th>\n",
       "      <td>54.049470</td>\n",
       "      <td>0.699647</td>\n",
       "      <td>0.985866</td>\n",
       "      <td>149.961131</td>\n",
       "      <td>0.318021</td>\n",
       "      <td>0.951943</td>\n",
       "      <td>1.427562</td>\n",
       "      <td>0.639576</td>\n",
       "      <td>1.310954</td>\n",
       "      <td>0.558304</td>\n",
       "    </tr>\n",
       "    <tr>\n",
       "      <th>std</th>\n",
       "      <td>9.128186</td>\n",
       "      <td>0.459224</td>\n",
       "      <td>1.031324</td>\n",
       "      <td>22.691625</td>\n",
       "      <td>0.466533</td>\n",
       "      <td>1.026400</td>\n",
       "      <td>0.599246</td>\n",
       "      <td>0.905532</td>\n",
       "      <td>0.579300</td>\n",
       "      <td>0.497469</td>\n",
       "    </tr>\n",
       "    <tr>\n",
       "      <th>min</th>\n",
       "      <td>29.000000</td>\n",
       "      <td>0.000000</td>\n",
       "      <td>0.000000</td>\n",
       "      <td>88.000000</td>\n",
       "      <td>0.000000</td>\n",
       "      <td>0.000000</td>\n",
       "      <td>0.000000</td>\n",
       "      <td>0.000000</td>\n",
       "      <td>0.000000</td>\n",
       "      <td>0.000000</td>\n",
       "    </tr>\n",
       "    <tr>\n",
       "      <th>25%</th>\n",
       "      <td>47.000000</td>\n",
       "      <td>0.000000</td>\n",
       "      <td>0.000000</td>\n",
       "      <td>133.500000</td>\n",
       "      <td>0.000000</td>\n",
       "      <td>0.000000</td>\n",
       "      <td>1.000000</td>\n",
       "      <td>0.000000</td>\n",
       "      <td>1.000000</td>\n",
       "      <td>0.000000</td>\n",
       "    </tr>\n",
       "    <tr>\n",
       "      <th>50%</th>\n",
       "      <td>55.000000</td>\n",
       "      <td>1.000000</td>\n",
       "      <td>1.000000</td>\n",
       "      <td>153.000000</td>\n",
       "      <td>0.000000</td>\n",
       "      <td>0.600000</td>\n",
       "      <td>1.000000</td>\n",
       "      <td>0.000000</td>\n",
       "      <td>1.000000</td>\n",
       "      <td>1.000000</td>\n",
       "    </tr>\n",
       "    <tr>\n",
       "      <th>75%</th>\n",
       "      <td>60.000000</td>\n",
       "      <td>1.000000</td>\n",
       "      <td>2.000000</td>\n",
       "      <td>168.000000</td>\n",
       "      <td>1.000000</td>\n",
       "      <td>1.600000</td>\n",
       "      <td>2.000000</td>\n",
       "      <td>1.000000</td>\n",
       "      <td>2.000000</td>\n",
       "      <td>1.000000</td>\n",
       "    </tr>\n",
       "    <tr>\n",
       "      <th>max</th>\n",
       "      <td>77.000000</td>\n",
       "      <td>1.000000</td>\n",
       "      <td>3.000000</td>\n",
       "      <td>202.000000</td>\n",
       "      <td>1.000000</td>\n",
       "      <td>4.000000</td>\n",
       "      <td>2.000000</td>\n",
       "      <td>3.000000</td>\n",
       "      <td>2.000000</td>\n",
       "      <td>1.000000</td>\n",
       "    </tr>\n",
       "  </tbody>\n",
       "</table>\n",
       "</div>"
      ],
      "text/plain": [
       "              age         sex          cp     thalach       exang     oldpeak  \\\n",
       "count  283.000000  283.000000  283.000000  283.000000  283.000000  283.000000   \n",
       "mean    54.049470    0.699647    0.985866  149.961131    0.318021    0.951943   \n",
       "std      9.128186    0.459224    1.031324   22.691625    0.466533    1.026400   \n",
       "min     29.000000    0.000000    0.000000   88.000000    0.000000    0.000000   \n",
       "25%     47.000000    0.000000    0.000000  133.500000    0.000000    0.000000   \n",
       "50%     55.000000    1.000000    1.000000  153.000000    0.000000    0.600000   \n",
       "75%     60.000000    1.000000    2.000000  168.000000    1.000000    1.600000   \n",
       "max     77.000000    1.000000    3.000000  202.000000    1.000000    4.000000   \n",
       "\n",
       "            slope          ca        thal      target  \n",
       "count  283.000000  283.000000  283.000000  283.000000  \n",
       "mean     1.427562    0.639576    1.310954    0.558304  \n",
       "std      0.599246    0.905532    0.579300    0.497469  \n",
       "min      0.000000    0.000000    0.000000    0.000000  \n",
       "25%      1.000000    0.000000    1.000000    0.000000  \n",
       "50%      1.000000    0.000000    1.000000    1.000000  \n",
       "75%      2.000000    1.000000    2.000000    1.000000  \n",
       "max      2.000000    3.000000    2.000000    1.000000  "
      ]
     },
     "execution_count": 3,
     "metadata": {},
     "output_type": "execute_result"
    }
   ],
   "source": [
    "#Get data description\n",
    "df.describe()"
   ]
  },
  {
   "cell_type": "code",
   "execution_count": 4,
   "metadata": {},
   "outputs": [],
   "source": [
    "#Splitting Data\n",
    "X = df.drop('target', axis=1)\n",
    "y = df['target']"
   ]
  },
  {
   "cell_type": "code",
   "execution_count": 5,
   "metadata": {},
   "outputs": [],
   "source": [
    "#Scaling data\n",
    "scaler = StandardScaler()\n",
    "X_scaled = scaler.fit_transform(X)"
   ]
  },
  {
   "cell_type": "code",
   "execution_count": 6,
   "metadata": {},
   "outputs": [
    {
     "name": "stdout",
     "output_type": "stream",
     "text": [
      "(226, 9)\n",
      "(57, 9)\n",
      "(226,)\n",
      "(57,)\n"
     ]
    }
   ],
   "source": [
    "# Splitting data\n",
    "X_train, X_test, y_train, y_test = train_test_split(X_scaled , y, test_size=0.2, random_state=42)\n",
    "\n",
    "# Get amount of data from train and test\n",
    "print(X_train.shape)\n",
    "print(X_test.shape)\n",
    "print(y_train.shape)\n",
    "print(y_test.shape)"
   ]
  },
  {
   "cell_type": "code",
   "execution_count": 7,
   "metadata": {},
   "outputs": [
    {
     "name": "stdout",
     "output_type": "stream",
     "text": [
      "{'max_iter': 100, 'multi_class': 'auto', 'solver': 'liblinear'}\n",
      "Best Training Accuracy: 0.9209805668016194\n",
      "Test Accuracy: 0.8421052631578947\n",
      "              precision    recall  f1-score   support\n",
      "\n",
      "           0       0.84      0.81      0.82        26\n",
      "           1       0.84      0.87      0.86        31\n",
      "\n",
      "    accuracy                           0.84        57\n",
      "   macro avg       0.84      0.84      0.84        57\n",
      "weighted avg       0.84      0.84      0.84        57\n",
      "\n"
     ]
    }
   ],
   "source": [
    "# Get Logistic Regression model\n",
    "lr = LogisticRegression()\n",
    "\n",
    "#Several parameters for tuning\n",
    "param_grid = {\n",
    "    'max_iter': [100, 200, 300, 400, 500],\n",
    "    'multi_class': ['auto', 'ovr', 'multinomial'],\n",
    "    'solver' : ['lbfgs', 'liblinear', 'newton-cg', 'newton-cholesky', 'sag', 'saga']\n",
    "}\n",
    "\n",
    "#Use grid search to tuning the model\n",
    "gs = GridSearchCV(\n",
    "        estimator= lr,\n",
    "        param_grid = param_grid,\n",
    "        cv=5,\n",
    "        n_jobs=-1,\n",
    "        scoring='roc_auc'\n",
    "    )\n",
    "\n",
    "#Train logistic regression model\n",
    "lr_model = gs.fit(X_train, y_train)\n",
    "y_pred = lr_model.predict(X_test)\n",
    "\n",
    "#Show best parameters and best scores\n",
    "print(lr_model.best_params_)\n",
    "print(f\"Best Training Accuracy: {lr_model.best_score_}\")\n",
    "print(f\"Test Accuracy: {accuracy_score(y_test, y_pred)}\")\n",
    "#Get Accuracy and classification report\n",
    "print(classification_report(y_test, y_pred))"
   ]
  },
  {
   "cell_type": "code",
   "execution_count": 8,
   "metadata": {},
   "outputs": [
    {
     "name": "stdout",
     "output_type": "stream",
     "text": [
      "{'criterion': 'entropy', 'max_depth': 50, 'n_estimators': 200}\n",
      "Best Training Accuracy: 0.9091562753036436\n",
      "Test Accuracy: 0.8245614035087719\n",
      "              precision    recall  f1-score   support\n",
      "\n",
      "           0       0.86      0.73      0.79        26\n",
      "           1       0.80      0.90      0.85        31\n",
      "\n",
      "    accuracy                           0.82        57\n",
      "   macro avg       0.83      0.82      0.82        57\n",
      "weighted avg       0.83      0.82      0.82        57\n",
      "\n"
     ]
    }
   ],
   "source": [
    "# Get Random Forest model\n",
    "rf = RandomForestClassifier()\n",
    "\n",
    "#Several parameters for tuning\n",
    "param_grid_rf = {'n_estimators': [100, 200, 300, 500],\n",
    "               'max_depth': [None, 10, 20, 30, 40, 50],\n",
    "               'criterion': ['gini', 'entropy']}\n",
    "\n",
    "#Use grid search to tuning the model\n",
    "gs1 = GridSearchCV(\n",
    "        estimator=rf,\n",
    "        param_grid = param_grid_rf,\n",
    "        cv=5,\n",
    "        n_jobs=-1,\n",
    "        scoring='roc_auc'\n",
    "    )\n",
    "\n",
    "#Train random forest model\n",
    "rf_model = gs1.fit(X_train, y_train)\n",
    "y_pred = rf_model.predict(X_test)\n",
    "\n",
    "#Show best parameters and best scores\n",
    "print(rf_model.best_params_)\n",
    "print(f\"Best Training Accuracy: {rf_model.best_score_}\")\n",
    "print(f\"Test Accuracy: {accuracy_score(y_test, y_pred)}\")\n",
    "\n",
    "#Get Accuracy and classification report\n",
    "print(classification_report(y_test, y_pred))"
   ]
  },
  {
   "cell_type": "code",
   "execution_count": 9,
   "metadata": {},
   "outputs": [
    {
     "name": "stdout",
     "output_type": "stream",
     "text": [
      "{'criterion': 'gini', 'max_depth': None, 'min_samples_leaf': 4}\n",
      "Best Training Accuracy: 0.8140574898785425\n",
      "Test Accuracy: 0.7719298245614035\n",
      "              precision    recall  f1-score   support\n",
      "\n",
      "           0       0.71      0.85      0.77        26\n",
      "           1       0.85      0.71      0.77        31\n",
      "\n",
      "    accuracy                           0.77        57\n",
      "   macro avg       0.78      0.78      0.77        57\n",
      "weighted avg       0.78      0.77      0.77        57\n",
      "\n"
     ]
    }
   ],
   "source": [
    "# Get Decision Tree model\n",
    "dt = DecisionTreeClassifier()\n",
    "\n",
    "#Set several parameters for tuning\n",
    "param_grid_dt = {'min_samples_leaf': [1,2,4],\n",
    "               'max_depth': [None, '10', '30', '50'],\n",
    "               'criterion': ['gini', 'entropy']}\n",
    "\n",
    "#Use grid search to tuning the model\n",
    "gs2 = GridSearchCV(\n",
    "        estimator=dt,\n",
    "        param_grid = param_grid_dt,\n",
    "        cv=5,\n",
    "        n_jobs=-1,\n",
    "        scoring='roc_auc'\n",
    "    )\n",
    "\n",
    "#Train decision tree model\n",
    "dt_model = gs2.fit(X_train, y_train)\n",
    "y_pred = dt_model.predict(X_test)\n",
    "\n",
    "#Show best parameters and best scores from tuning\n",
    "print(dt_model.best_params_)\n",
    "print(f\"Best Training Accuracy: {dt_model.best_score_}\")\n",
    "print(f\"Test Accuracy: {accuracy_score(y_test, y_pred)}\")\n",
    "\n",
    "#Get Accuracy and classification report\n",
    "print(classification_report(y_test,y_pred))"
   ]
  },
  {
   "cell_type": "code",
   "execution_count": 10,
   "metadata": {},
   "outputs": [
    {
     "name": "stdout",
     "output_type": "stream",
     "text": [
      "{'activation': 'logistic', 'hidden_layer_sizes': (64,), 'solver': 'adam'}\n",
      "Best Training Accuracy: 0.9297117408906883\n",
      "Test Accuracy: 0.8421052631578947\n",
      "              precision    recall  f1-score   support\n",
      "\n",
      "           0       0.84      0.81      0.82        26\n",
      "           1       0.84      0.87      0.86        31\n",
      "\n",
      "    accuracy                           0.84        57\n",
      "   macro avg       0.84      0.84      0.84        57\n",
      "weighted avg       0.84      0.84      0.84        57\n",
      "\n"
     ]
    }
   ],
   "source": [
    "# Get MLP model\n",
    "mlp = MLPClassifier()\n",
    "\n",
    "#Set several parameters for tuning\n",
    "param_grid_mlp = {'hidden_layer_sizes': [(64,),(64,128),(64, 128, 32)],\n",
    "               'activation': ['logistic', 'tanh', 'sigmoid'],\n",
    "               'solver': ['sgd', 'adam' ]}\n",
    "\n",
    "#Use grid search to tuning the model\n",
    "gs3 = GridSearchCV(\n",
    "        estimator=mlp,\n",
    "        param_grid = param_grid_mlp,\n",
    "        cv=5,\n",
    "        n_jobs=-1,\n",
    "        scoring='roc_auc'\n",
    "    )\n",
    "\n",
    "#Train decision tree model\n",
    "mlp_model = gs3.fit(X_train, y_train)\n",
    "y_pred = mlp_model.predict(X_test)\n",
    "\n",
    "#Show best parameters and best scores from tuning\n",
    "print(mlp_model.best_params_)\n",
    "print(f\"Best Training Accuracy: {mlp_model.best_score_}\")\n",
    "print(f\"Test Accuracy: {accuracy_score(y_test, y_pred)}\")\n",
    "\n",
    "#Get Accuracy and classification report\n",
    "print(classification_report(y_test,y_pred))\n"
   ]
  },
  {
   "cell_type": "code",
   "execution_count": 11,
   "metadata": {},
   "outputs": [
    {
     "name": "stdout",
     "output_type": "stream",
     "text": [
      "AUC-ROC for Logistic Regression: 0.879652605459057\n",
      "AUC-ROC for Random Forest: 0.9112903225806451\n",
      "AUC-ROC for Decision Tree: 0.8604218362282878\n",
      "AUC-ROC for MLP: 0.8895781637717122\n"
     ]
    }
   ],
   "source": [
    "# Predict the probabilities for the positive class\n",
    "y_pred_logreg = lr_model.predict_proba(X_test)[:,1]\n",
    "y_pred_rf = rf_model.predict_proba(X_test)[:,1]\n",
    "y_pred_dt= dt_model.predict_proba(X_test)[:,1]\n",
    "y_pred_mlp= mlp_model.predict_proba(X_test)[:,1]\n",
    "\n",
    "# Calculate the AUC-ROC scores\n",
    "auc_logreg = roc_auc_score(y_test, y_pred_logreg)\n",
    "auc_rf = roc_auc_score(y_test, y_pred_rf)\n",
    "auc_dt = roc_auc_score(y_test, y_pred_dt)\n",
    "auc_mlp = roc_auc_score(y_test, y_pred_mlp)\n",
    "\n",
    "print(f\"AUC-ROC for Logistic Regression: {auc_logreg}\")\n",
    "print(f\"AUC-ROC for Random Forest: {auc_rf}\")\n",
    "print(f\"AUC-ROC for Decision Tree: {auc_dt}\")\n",
    "print(f\"AUC-ROC for MLP: {auc_mlp}\")"
   ]
  },
  {
   "cell_type": "code",
   "execution_count": 12,
   "metadata": {},
   "outputs": [
    {
     "data": {
      "image/png": "[encoded data removed]",
      "text/plain": [
       "<Figure size 576x432 with 1 Axes>"
      ]
     },
     "metadata": {
      "needs_background": "light"
     },
     "output_type": "display_data"
    }
   ],
   "source": [
    "#Membuat ROC Analisis\n",
    "def plot_roc_curves(y_test, y_pred_logreg, y_pred_rf, y_pred_dt, y_pred_mlp):\n",
    "    plt.figure(figsize=(8, 6))\n",
    "\n",
    "    # Calculate ROC curves for each model\n",
    "    fpr_logreg, tpr_logreg, _ = roc_curve(y_test, y_pred_logreg)\n",
    "    fpr_rf, tpr_rf, _ = roc_curve(y_test, y_pred_rf)\n",
    "    fpr_dt, tpr_dt, _ = roc_curve(y_test, y_pred_dt)\n",
    "    fpr_mlp, tpr_mlp, _ = roc_curve(y_test, y_pred_mlp)\n",
    "\n",
    "    # Plot ROC curves\n",
    "    plt.plot(fpr_logreg, tpr_logreg, label=f'Logistic Regression (AUC = {auc_logreg:.2f})')\n",
    "    plt.plot(fpr_rf, tpr_rf, label=f'Random Forest (AUC = {auc_rf:.2f})')\n",
    "    plt.plot(fpr_dt, tpr_dt, label=f'Decision Tree (AUC = {auc_dt:.2f})')\n",
    "    plt.plot(fpr_mlp, tpr_mlp, label=f'MLP (AUC = {auc_mlp:.2f})')\n",
    "\n",
    "    # Plot random classifier\n",
    "    plt.plot([0,1],[0,1], linestyle='--', label='Random Classifier')\n",
    "\n",
    "    # Format the plot\n",
    "    plt.xlabel('False Positive Rate')\n",
    "    plt.ylabel('True Positive Rate')\n",
    "    plt.title('ROC Curves for Heart Disease Prediction Models')\n",
    "    plt.legend()\n",
    "    plt.show()\n",
    "\n",
    "plot_roc_curves(y_test, y_pred_logreg, y_pred_rf, y_pred_dt, y_pred_mlp)"
   ]
  },
  {
   "cell_type": "code",
   "execution_count": 13,
   "metadata": {},
   "outputs": [
    {
     "name": "stdout",
     "output_type": "stream",
     "text": [
      "Best threshold for Logistic Regression: 0.4246777284072778\n",
      "Best threshold for Random Forest: 0.67\n",
      "Best threshold for Decision Tree: 0.3333333333333333\n",
      "Best threshold for MLP: 0.6312118428478881\n"
     ]
    }
   ],
   "source": [
    "def find_best_threshold(y_test, y_pred):\n",
    "    # based on Youden's Index\n",
    "    fpr, tpr, thresholds = roc_curve(y_test, y_pred)\n",
    "\n",
    "    #calculate Youden's Index\n",
    "    youden_index = tpr - fpr\n",
    "\n",
    "    #ambil indeks tresholds terbaik\n",
    "    optimal_idx = np.argmax(youden_index)\n",
    "    return thresholds[optimal_idx]\n",
    "\n",
    "best_threshold_logreg = find_best_threshold(y_test, y_pred_logreg)\n",
    "best_threshold_rf = find_best_threshold(y_test, y_pred_rf)\n",
    "best_threshold_dt = find_best_threshold(y_test, y_pred_dt)\n",
    "best_threshold_mlp = find_best_threshold(y_test, y_pred_mlp)\n",
    "\n",
    "print(f\"Best threshold for Logistic Regression: {best_threshold_logreg}\")\n",
    "print(f\"Best threshold for Random Forest: {best_threshold_rf}\")\n",
    "print(f\"Best threshold for Decision Tree: {best_threshold_dt}\")\n",
    "print(f\"Best threshold for MLP: {best_threshold_mlp}\")"
   ]
  },
  {
   "cell_type": "code",
   "execution_count": 14,
   "metadata": {},
   "outputs": [],
   "source": [
    "# # Saving model\n",
    "# pklname = 'model.pkl'\n",
    "\n",
    "# with open(pklname, 'wb') as file:\n",
    "#     pickle.dump(rf_model,file)"
   ]
  }
 ],
 "metadata": {
  "kernelspec": {
   "display_name": "deep_learning",
   "language": "python",
   "name": "python3"
  },
  "language_info": {
   "codemirror_mode": {
    "name": "ipython",
    "version": 3
   },
   "file_extension": ".py",
   "mimetype": "text/x-python",
   "name": "python",
   "nbconvert_exporter": "python",
   "pygments_lexer": "ipython3",
   "version": "3.8.13"
  }
 },
 "nbformat": 4,
 "nbformat_minor": 2
}
